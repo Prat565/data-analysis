{
 "cells": [
  {
   "cell_type": "code",
   "execution_count": 2,
   "metadata": {},
   "outputs": [
    {
     "data": {
      "text/plain": [
       "(        job_title_short                                                             job_title                  job_location             job_via         job_schedule_type  job_work_from_home          search_location     job_posted_date  job_no_degree_mention  job_health_insurance    job_country salary_rate  salary_year_avg  salary_hour_avg                   company_name                                                                                                  job_skills                                                                                                                                                                                  job_type_skills\n",
       " 0  Senior Data Engineer  Senior Clinical Data Engineer / Principal Clinical Data Engineer ...                 Watertown, CT     via Work Nearby                 Full-time               False     Texas, United States 2023-06-16 13:44:15                  False                 False  United States         NaN              NaN              NaN           Boehringer Ingelheim                                                                                                         NaN                                                                                                                                                                                              NaN\n",
       " 1          Data Analyst                                                          Data Analyst  Guadalajara, Jalisco, Mexico    via BeBee México                 Full-time               False                   Mexico 2023-01-14 13:18:07                  False                 False         Mexico         NaN              NaN              NaN     Hewlett Packard Enterprise                                                      ['r', 'python', 'sql', 'nosql', 'power bi', 'tableau']                                                                                                       {'analyst_tools': ['power bi', 'tableau'], 'programming': ['r', 'python', 'sql', 'nosql']}\n",
       " 2         Data Engineer                Data Engineer/Scientist/Analyst, Mid or Senior (m/f/x)               Berlin, Germany        via LinkedIn                 Full-time               False                  Germany 2023-10-10 13:14:55                  False                 False        Germany         NaN              NaN              NaN       ALPHA Augmented Services                       ['python', 'sql', 'c#', 'azure', 'airflow', 'dax', 'docker', 'kubernetes', 'jenkins']                                   {'analyst_tools': ['dax'], 'cloud': ['azure'], 'libraries': ['airflow'], 'other': ['docker', 'kubernetes', 'jenkins'], 'programming': ['python', 'sql', 'c#']}\n",
       " 3         Data Engineer     LEAD ENGINEER - PRINCIPAL ANALYST - PRINCIPAL ENGINEER -  DATA...               San Antonio, TX   via Diversity.com                 Full-time               False     Texas, United States 2023-07-04 13:01:41                   True                 False  United States         NaN              NaN              NaN   Southwest Research Institute                                ['python', 'c++', 'java', 'matlab', 'aws', 'tensorflow', 'keras', 'pytorch']                                                                          {'cloud': ['aws'], 'libraries': ['tensorflow', 'keras', 'pytorch'], 'programming': ['python', 'c++', 'java', 'matlab']}\n",
       " 4         Data Engineer                                                Data Engineer- Sr Jobs                Washington, DC  via Clearance Jobs                 Full-time               False                    Sudan 2023-08-07 14:29:36                  False                 False          Sudan         NaN              NaN              NaN                Kristina Daniel                        ['bash', 'python', 'oracle', 'aws', 'ansible', 'puppet', 'jenkins', 'gitlab', 'git']                                                                      {'cloud': ['oracle', 'aws'], 'other': ['ansible', 'puppet', 'jenkins', 'gitlab', 'git'], 'programming': ['bash', 'python']}\n",
       " 5         Data Engineer                                                     GCP Data Engineer                      Anywhere    via ZipRecruiter  Contractor and Temp work                True                  Georgia 2023-11-07 14:01:59                  False                 False  United States         NaN              NaN              NaN                smart folks inc                                                                                    ['python', 'sql', 'gcp']                                                                                                                                             {'cloud': ['gcp'], 'programming': ['python', 'sql']}\n",
       " 6  Senior Data Engineer                                     Senior Data Engineer  - GCP Cloud                  Dearborn, MI        via LinkedIn                 Full-time               False   Florida, United States 2023-03-27 13:18:18                  False                 False  United States         NaN              NaN              NaN  Miracle Software Systems, Inc                                        ['sql', 'python', 'java', 'sql server', 'gcp', 'bigquery', 'hadoop']                                                                   {'cloud': ['gcp', 'bigquery'], 'databases': ['sql server'], 'libraries': ['hadoop'], 'programming': ['sql', 'python', 'java']}\n",
       " 7         Data Engineer                                                         Data Engineer                      Anywhere        via LinkedIn                 Full-time                True                  Romania 2023-12-07 13:40:49                  False                 False        Romania         NaN              NaN              NaN                          Zitec  ['sql', 'nosql', 'gcp', 'azure', 'aws', 'bigquery', 'databricks', 'redshift', 'airflow', 'kafka', 'spark']                                            {'cloud': ['gcp', 'azure', 'aws', 'bigquery', 'databricks', 'redshift'], 'libraries': ['airflow', 'kafka', 'spark'], 'programming': ['sql', 'nosql']}\n",
       " 8      Business Analyst                              Technology & Operations Business Analyst           Copenhagen, Denmark     via Trabajo.org                 Full-time               False                  Denmark 2023-06-05 13:44:34                  False                 False        Denmark         NaN              NaN              NaN                         Hempel                                                                         ['excel', 'powerpoint', 'power bi']                                                                                                                                           {'analyst_tools': ['excel', 'powerpoint', 'power bi']}\n",
       " 9        Data Scientist                                                     Data Scientist II                      Anywhere    via ZipRecruiter                 Full-time                True  New York, United States 2023-04-23 13:02:57                  False                 False  United States         NaN              NaN              NaN     Radwell International, LLC  ['sql', 'python', 'r', 'mongodb', 'mongodb', 'sql server', 'azure', 'pandas', 'spark', 'windows', 'excel']  {'analyst_tools': ['excel'], 'cloud': ['azure'], 'databases': ['mongodb', 'sql server'], 'libraries': ['pandas', 'spark'], 'os': ['windows'], 'programming': ['sql', 'python', 'r', 'mongodb']},\n",
       " [0])"
      ]
     },
     "execution_count": 2,
     "metadata": {},
     "output_type": "execute_result"
    }
   ],
   "source": [
    "import pandas as pd\n",
    "\n",
    "pd.set_option('display.max_columns', None)\n",
    "pd.set_option('display.width', 1000)\n",
    "pd.set_option('display.max_colwidth', None)\n",
    "pd.set_option('display.max_rows', None)\n",
    "import matplotlib.pyplot as plt\n",
    "\n",
    "\n",
    "df = pd.read_csv('/Users/prateeklodha/Desktop/data analysis/data_jobs.csv')\n",
    "\n",
    "df['job_posted_date']=pd.to_datetime(df.job_posted_date)\n",
    "df.iloc[0:10], [0]"
   ]
  },
  {
   "cell_type": "code",
   "execution_count": 3,
   "metadata": {},
   "outputs": [
    {
     "data": {
      "text/plain": [
       "salary_rate            year\n",
       "salary_year_avg    960000.0\n",
       "dtype: object"
      ]
     },
     "execution_count": 3,
     "metadata": {},
     "output_type": "execute_result"
    }
   ],
   "source": [
    "df.loc[:, 'salary_rate':'salary_year_avg'].dropna(subset='salary_rate').max()"
   ]
  },
  {
   "cell_type": "code",
   "execution_count": 4,
   "metadata": {},
   "outputs": [],
   "source": [
    "median_salary_hour = (df['salary_hour_avg'].median())"
   ]
  },
  {
   "cell_type": "code",
   "execution_count": 5,
   "metadata": {},
   "outputs": [],
   "source": [
    "median_salary_year = (df['salary_year_avg'].median())"
   ]
  }
 ],
 "metadata": {
  "kernelspec": {
   "display_name": "Python 3",
   "language": "python",
   "name": "python3"
  },
  "language_info": {
   "codemirror_mode": {
    "name": "ipython",
    "version": 3
   },
   "file_extension": ".py",
   "mimetype": "text/x-python",
   "name": "python",
   "nbconvert_exporter": "python",
   "pygments_lexer": "ipython3",
   "version": "3.13.2"
  }
 },
 "nbformat": 4,
 "nbformat_minor": 2
}
